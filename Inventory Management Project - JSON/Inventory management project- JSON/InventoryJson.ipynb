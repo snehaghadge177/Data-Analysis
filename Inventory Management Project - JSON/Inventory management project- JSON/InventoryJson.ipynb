{
 "cells": [
  {
   "cell_type": "markdown",
   "metadata": {},
   "source": [
    "This was inventory at first "
   ]
  },
  {
   "cell_type": "markdown",
   "metadata": {},
   "source": [
    "record = {1001 : {\"Name\" : \"Milky-bar\"     , \"Price\" : 20 , \"Qn\" : 200},\n",
    "          1002 : {\"Name\" : \"Amul Butter\"   , \"Price\" : 55 , \"Qn\" : 200},\n",
    "          1003 : {\"Name\" : \"Oreo\"          , \"Price\" : 40 , \"Qn\" : 100},\n",
    "          1004 : {\"Name\" : \"Pears pack\"    , \"Price\" : 200 , \"Qn\" : 100},\n",
    "          1005 : {\"Name\" : \"Chocolate cake\", \"Price\" : 350, \"Qn\" : 50}}\n"
   ]
  },
  {
   "cell_type": "markdown",
   "metadata": {},
   "source": [
    "How to print our dictionary contents:"
   ]
  },
  {
   "cell_type": "markdown",
   "metadata": {},
   "source": [
    "print(record[1001][\"Name\"])"
   ]
  },
  {
   "cell_type": "markdown",
   "metadata": {},
   "source": [
    "print(record[1001][\"Price\"])"
   ]
  },
  {
   "cell_type": "markdown",
   "metadata": {},
   "source": [
    "print(record[1001][\"Qn\"])"
   ]
  },
  {
   "cell_type": "markdown",
   "metadata": {},
   "source": [
    "## Generate the Bill"
   ]
  },
  {
   "cell_type": "code",
   "execution_count": 44,
   "metadata": {
    "scrolled": false
   },
   "outputs": [
    {
     "name": "stdout",
     "output_type": "stream",
     "text": [
      "----------------MENU--------------------\n",
      "\n",
      "1001 : Milky-bar | 20 Rs.  | 0\n",
      "1002 : Amul Butter | 55 Rs.  | 495\n",
      "1003 : Oreo | 40 Rs.  | 300\n",
      "1004 : Pears pack | 200 Rs.  | 300\n",
      "1005 : Chocolate cake | 350 Rs.  | 260\n",
      "----------------------------------------\n",
      "\n",
      "Enter your name  : jin\n",
      "Enter phone no  : 78572859691\n",
      "Enter product ID   : 1001\n",
      "Enter quantity     : 10\n",
      "----------------------------------------\n",
      "Sorry! We don't have enough quantity.\n",
      "Current quantity :  0\n",
      "Press Y/y if you want to purchase it.n\n",
      "----------------------------------------\n",
      "Thank you! Do visit again!\n",
      "----------------------------------------\n"
     ]
    }
   ],
   "source": [
    "import json\n",
    "import time\n",
    "\n",
    "# Open a file and read data in 'js'. The data is in string format.\n",
    "fd = open(\"records.json\", \"r\")\n",
    "js = fd.read()\n",
    "fd.close()\n",
    "\n",
    "sale= ''\n",
    "discount = 0\n",
    "total_bill = 0\n",
    "\n",
    "# Load 'js' in 'record'. This will convert it from string format to JSON/dictionary format.\n",
    "record = json.loads(js)\n",
    "\n",
    "\n",
    "# Display the menu\n",
    "print(\"----------------MENU--------------------\\n\")\n",
    "for key in record.keys():\n",
    "    print(key,\":\", record[key][\"Name\"],\"|\", record[key][\"Price\"],\"Rs.  |\", record[key][\"Qn\"])\n",
    "print(\"----------------------------------------\\n\")\n",
    "\n",
    "\n",
    "# Taking user input\n",
    "ui_name = str(input(\"Enter your name  : \"))\n",
    "ui_phone = str(input(\"Enter phone no  : \"))\n",
    "ui_ID = str(input(\"Enter product ID   : \"))\n",
    "ui_qn = int(input(\"Enter quantity     : \"))\n",
    "\n",
    "\n",
    "\n",
    "# Check if we have enough quantity and then display bill\n",
    "\n",
    "# If we have enough quantity\n",
    "if(record[ui_ID][\"Qn\"] >= ui_qn):\n",
    "\n",
    "    # Display Bill\n",
    "    print(\"----------------------------------------\")\n",
    "    print(\"            Bill           \\n\")\n",
    "    print(\"Name               :\", record[ui_ID][\"Name\"])\n",
    "    print(\"Price              :\", record[ui_ID][\"Price\"], \"Rs.\")\n",
    "    print(\"Quantity           :\", ui_qn)\n",
    "    print(\"----------------------------------------\")\n",
    "    \n",
    "    # Check if Bill Amount is greater than 5000 for Discount\n",
    "    if((record[ui_ID][\"Price\"] * ui_qn)>=5000):\n",
    "        discount = (record[ui_ID][\"Price\"] * ui_qn) * 0.1\n",
    "        total_bill = (record[ui_ID][\"Price\"] * ui_qn) - discount\n",
    "    else:\n",
    "        total_bill = record[ui_ID][\"Price\"] * ui_qn\n",
    "        \n",
    "    print(\"Billing Amount     :\", total_bill, \"Rs.\")\n",
    "    print(\"----------------------------------------\")\n",
    "    \n",
    "    # Print congratulations for discount!\n",
    "    if(discount>0):\n",
    "        print(\"Congratulations! You got a discount of Rs.\",  discount)\n",
    "        print(\"----------------------------------------\")\n",
    "    \n",
    "    # Generate the sale/transaction in sales.txt\n",
    "    sale = ui_name+\",\"+ui_phone+\",\"+str(ui_ID)+\",\"+record[ui_ID][\"Name\"]+\",\"+str(ui_qn)+\",\"+str(record[ui_ID][\"Price\"])+\",\"+str(total_bill)+\",\"+str(discount)+\",\"+time.ctime()+\"\\n\"\n",
    "    \n",
    "    # Update the quantity in record\n",
    "    record[ui_ID][\"Qn\"] = record[ui_ID][\"Qn\"] - ui_qn\n",
    "    \n",
    "    print(\"\\nInventory updated! \")\n",
    "    print(\"----------------------------------------\")\n",
    "    print(\"Thanks for your order. Do visit again!\")\n",
    "    print(\"----------------------------------------\")\n",
    "\n",
    "    \n",
    "    \n",
    "# If we don't have enough quantity    \n",
    "else:\n",
    "\n",
    "    print(\"----------------------------------------\")\n",
    "    print(\"Sorry! We don't have enough quantity.\")\n",
    "    print(\"Current quantity : \", record[ui_ID][\"Qn\"])\n",
    "    ch = input(\"Press Y/y if you want to purchase it.\")\n",
    "    \n",
    "    # If user wants the remaining quantity\n",
    "    if(ch == 'Y' or ch == 'y'):\n",
    "    \n",
    "        # Display Bill\n",
    "        print(\"----------------------------------------\")\n",
    "        print(\"            Bill           \\n\")\n",
    "        print(\"Name               :\", record[ui_ID][\"Name\"])\n",
    "        print(\"Price              :\", record[ui_ID][\"Price\"], \"Rs.\")\n",
    "        print(\"Quantity           :\", record[ui_ID][\"Qn\"])\n",
    "        print(\"----------------------------------------\")\n",
    "        \n",
    "        # Check if Billing Amount is greater than 5000 for discount\n",
    "        if((record[ui_ID][\"Price\"] * record[ui_ID][\"Qn\"])>=5000):\n",
    "            discount = (record[ui_ID][\"Price\"] * record[ui_ID][\"Qn\"]) * 0.1\n",
    "            total_bill = (record[ui_ID][\"Price\"] * record[ui_ID][\"Qn\"])-discount\n",
    "        else:\n",
    "            total_bill = record[ui_ID][\"Price\"] * record[ui_ID][\"Qn\"]\n",
    "            \n",
    "        print(\"Billing Amount     :\", total_bill, \"Rs.\")\n",
    "        print(\"----------------------------------------\")\n",
    "        \n",
    "        # Print congratulations for discount!\n",
    "        if(discount>0):\n",
    "            print(\"Congratulations! You got a discount of Rs.\",  discount)\n",
    "            print(\"----------------------------------------\")\n",
    "\n",
    "        # Generate the sale/transaction in sales.txt\n",
    "        sale = ui_name+\",\"+ui_phone+\",\"+str(ui_ID)+\",\"+record[ui_ID][\"Name\"]+\",\"+str(record[ui_ID][\"Qn\"])+\",\"+str(record[ui_ID][\"Price\"])+\",\"+str(total_bill)+\",\"+str(discount)+\",\"+time.ctime()+\"\\n\"\n",
    "        \n",
    "        # Update the quantity in record\n",
    "        record[ui_ID][\"Qn\"] = 0\n",
    "        \n",
    "        print(\"\\nInventory updated! \")\n",
    "        print(\"----------------------------------------\")\n",
    "        print(\"Thanks for your order. Do visit again!\")\n",
    "        print(\"----------------------------------------\")\n",
    "    \n",
    "    # If user doesn't want the remaining quantity\n",
    "    else:\n",
    "        print(\"----------------------------------------\")\n",
    "        print(\"Thank you! Do visit again!\")\n",
    "        print(\"----------------------------------------\")\n",
    "\n",
    "\n",
    "\n",
    "# Convert the updated record in JSON string\n",
    "js= json.dumps(record)\n",
    "\n",
    "# Save the json format in file\n",
    "fd = open(\"records.json\", \"w\")\n",
    "fd.write(js)\n",
    "fd.close()\n",
    "\n",
    "# Write all the transactions in sales.txt\n",
    "sl = open(\"Sales.txt\",\"a\")\n",
    "sl.write(sale)\n",
    "sl.close()\n"
   ]
  },
  {
   "cell_type": "code",
   "execution_count": null,
   "metadata": {},
   "outputs": [],
   "source": []
  }
 ],
 "metadata": {
  "kernelspec": {
   "display_name": "Python 3",
   "language": "python",
   "name": "python3"
  },
  "language_info": {
   "codemirror_mode": {
    "name": "ipython",
    "version": 3
   },
   "file_extension": ".py",
   "mimetype": "text/x-python",
   "name": "python",
   "nbconvert_exporter": "python",
   "pygments_lexer": "ipython3",
   "version": "3.6.4"
  }
 },
 "nbformat": 4,
 "nbformat_minor": 2
}
