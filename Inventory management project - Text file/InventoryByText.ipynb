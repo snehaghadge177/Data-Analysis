{
 "cells": [
  {
   "cell_type": "code",
   "execution_count": 1,
   "metadata": {},
   "outputs": [],
   "source": [
    "#Reading the inventory\n",
    "IM = open(\"InventoryText.txt\", \"r\")"
   ]
  },
  {
   "cell_type": "markdown",
   "metadata": {},
   "source": [
    "Product Details:\n",
    "1. ID\n",
    "2. Name\n",
    "3. Price\n",
    "4. Quantity"
   ]
  },
  {
   "cell_type": "code",
   "execution_count": 2,
   "metadata": {
    "scrolled": true
   },
   "outputs": [
    {
     "name": "stdout",
     "output_type": "stream",
     "text": [
      "1,Milk,20,0\n",
      "2,Chocolate,10,30\n",
      "3,Biscuit,50,90\n",
      "4,Cream,300,0\n",
      "5,Dryfruits,500,0\n",
      "6,Soap,50,200\n",
      "7,Toothpaste,20,300\n"
     ]
    }
   ],
   "source": [
    "#Printing product details to check availability\n",
    "products = IM.read().split('\\n')\n",
    "IM.close()\n",
    "for product in products:\n",
    "    print(product)\n"
   ]
  },
  {
   "cell_type": "markdown",
   "metadata": {},
   "source": [
    "## Create a bill\n"
   ]
  },
  {
   "cell_type": "code",
   "execution_count": 5,
   "metadata": {},
   "outputs": [
    {
     "name": "stdout",
     "output_type": "stream",
     "text": [
      "Enter your name: siya\n",
      "Enter phone number: 3782981\n",
      "-----------------------------------\n",
      "1,Milk,20,0\n",
      "2,Chocolate,10,30\n",
      "3,Biscuit,50,90\n",
      "4,Cream,300,0\n",
      "5,Dryfruits,500,0\n",
      "6,Soap,50,200\n",
      "7,Toothpaste,20,300\n",
      "-----------------------------------\n",
      "Enter Product ID: 2\n",
      "2,Chocolate,10,30\n",
      "Enter product quantity: 50\n",
      "----------------------------------------\n",
      "Sorry! We don't have enough quantity.\n",
      "Current quantity   :  30\n",
      "Would you like to purchase the remaining?\n",
      "Press Y/Ny\n",
      "\n",
      "-----------------------------------\n",
      "Bill:\n",
      "-----------------------------------\n",
      "Name              :  Chocolate\n",
      "Price             :  10\n",
      "Quantity          :  30\n",
      "-----------------------------------\n",
      "Billing Amount    :  300\n",
      "-----------------------------------\n",
      "Inventory updated\n",
      "Thank you!\n",
      "-----------------------------------\n"
     ]
    }
   ],
   "source": [
    "import time\n",
    "\n",
    "# Taking user input for ID and quantity\n",
    "ui_name = input(\"Enter your name: \")\n",
    "ui_phone = input(\"Enter phone number: \")\n",
    "print(\"-----------------------------------\")\n",
    "for product in products:\n",
    "    print(product)\n",
    "print(\"-----------------------------------\")\n",
    "ui_prod_id = input(\"Enter Product ID: \")\n",
    "\n",
    "for product in products:\n",
    "    if(ui_prod_id == product.split(',')[0]):\n",
    "        print(product)\n",
    "        \n",
    "prod_quantity = input(\"Enter product quantity: \")\n",
    "\n",
    "updated_prod_lst = []\n",
    "\n",
    "# Going through each product detail\n",
    "for product in products:\n",
    "    prod_details = product.split(',')\n",
    "    \n",
    "    # Check if product ID exists in our inventory\n",
    "    if(ui_prod_id == prod_details[0]):\n",
    "        \n",
    "        if(int(prod_quantity) <= int(prod_details[3])):\n",
    "        # If we have enough quantity\n",
    "        \n",
    "            print(\"\\n-----------------------------------\")\n",
    "            print(\"Bill:\")\n",
    "            print(\"-----------------------------------\")\n",
    "            print(\"Name              : \", prod_details[1])\n",
    "            print(\"Price             : \", prod_details[2])\n",
    "            print(\"Quantity          : \", prod_quantity)\n",
    "            print(\"-----------------------------------\")\n",
    "            print(\"Billing Amount    : \", int(prod_details[2]) * int(prod_quantity))\n",
    "            print(\"-----------------------------------\")\n",
    "            # Update the reduced quantity in prod details \n",
    "            prod_details[3] = str(int(prod_details[3]) - int(prod_quantity))\n",
    "            \n",
    "            # Generating Sales in Sales.txt\n",
    "            fd = open(\"Sales.txt\",\"a\")\n",
    "            sales = ui_name +\",\"+ ui_phone +\",\"+ ui_prod_id +\",\"+prod_details[1] +\",\"+ prod_quantity +\",\"+ str(int(prod_details[2]) * int(prod_quantity)) +\",\"+ time.ctime() + \"\\n\"    \n",
    "            fd.write(sales)\n",
    "            fd.close()\n",
    "            \n",
    "        else:\n",
    "        # If we don't have enough quantity\n",
    "            print(\"----------------------------------------\")\n",
    "            print(\"Sorry! We don't have enough quantity.\")\n",
    "            print(\"Current quantity   : \", prod_details[3])\n",
    "            print(\"Would you like to purchase the remaining?\")\n",
    "            \n",
    "            ch = input(\"Press Y/N\")\n",
    "            \n",
    "            if(ch == 'Y' or ch == 'y'):\n",
    "            # User wants to buy remaining quantity/stock\n",
    "                \n",
    "                print(\"\\n-----------------------------------\")\n",
    "                print(\"Bill:\")\n",
    "                print(\"-----------------------------------\")\n",
    "                print(\"Name              : \", prod_details[1])\n",
    "                print(\"Price             : \", prod_details[2])\n",
    "                print(\"Quantity          : \", prod_details[3])\n",
    "                print(\"-----------------------------------\")\n",
    "                print(\"Billing Amount    : \", int(prod_details[2]) * int(prod_details[3]))\n",
    "                print(\"-----------------------------------\")\n",
    "                \n",
    "                # Generating Sales in Sales.txt\n",
    "                fd = open(\"Sales.txt\",\"a\")\n",
    "                sales = ui_name +\",\"+ ui_phone +\",\"+ ui_prod_id +\",\"+prod_details[1] +\",\"+ prod_details[3] +\",\"+ str(int(prod_details[2]) * int(prod_details[3])) +\",\"+ time.ctime() + \"\\n\"  \n",
    "                fd.write(sales)\n",
    "                fd.close()\n",
    "                \n",
    "                # Update the quantity in to zero in prod details \n",
    "                prod_details[3] = '0'\n",
    "                \n",
    "            else:\n",
    "            #User doesn't want to buy\n",
    "                print(\"Thank you!\")\n",
    "        \n",
    "        \n",
    "    updated_prod_lst.append(prod_details)\n",
    "\n",
    "\n",
    "\n",
    "# Convert the updated list to a string format\n",
    "lst=[]\n",
    "for i in updated_prod_lst:\n",
    "    prod = i[0] + \",\" + i[1] + \",\" + i[2] + \",\" + i[3] + \"\\n\"\n",
    "    lst.append(prod)\n",
    "# Remove extra \\n of last list, otherwise it creates extra empty list \n",
    "lst[-1] = lst[-1][:-1]\n",
    "\n",
    "# Updating Inventory file\n",
    "IM = open(\"InventoryText.txt\", \"w\")\n",
    "for i in lst:\n",
    "    IM.write(i)\n",
    "IM.close()\n",
    "\n",
    "print(\"Inventory updated\\nThank you!\")\n",
    "print(\"-----------------------------------\")\n",
    "\n"
   ]
  },
  {
   "cell_type": "code",
   "execution_count": null,
   "metadata": {},
   "outputs": [],
   "source": []
  },
  {
   "cell_type": "code",
   "execution_count": null,
   "metadata": {},
   "outputs": [],
   "source": [
    "\n"
   ]
  },
  {
   "cell_type": "code",
   "execution_count": null,
   "metadata": {},
   "outputs": [],
   "source": []
  },
  {
   "cell_type": "code",
   "execution_count": null,
   "metadata": {},
   "outputs": [],
   "source": []
  },
  {
   "cell_type": "code",
   "execution_count": null,
   "metadata": {},
   "outputs": [],
   "source": []
  }
 ],
 "metadata": {
  "kernelspec": {
   "display_name": "Python 3",
   "language": "python",
   "name": "python3"
  },
  "language_info": {
   "codemirror_mode": {
    "name": "ipython",
    "version": 3
   },
   "file_extension": ".py",
   "mimetype": "text/x-python",
   "name": "python",
   "nbconvert_exporter": "python",
   "pygments_lexer": "ipython3",
   "version": "3.6.4"
  }
 },
 "nbformat": 4,
 "nbformat_minor": 2
}
