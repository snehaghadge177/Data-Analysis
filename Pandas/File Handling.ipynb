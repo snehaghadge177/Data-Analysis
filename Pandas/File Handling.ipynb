{
 "cells": [
  {
   "cell_type": "markdown",
   "metadata": {},
   "source": [
    "Write a function in python to read the content from a text file \"poem.txt\" line by line and display the same on screen."
   ]
  },
  {
   "cell_type": "code",
   "execution_count": 4,
   "metadata": {},
   "outputs": [
    {
     "name": "stdout",
     "output_type": "stream",
     "text": [
      "Shall I compare thee to a summerâ€™s day?\n",
      "\n",
      "Thou art more lovely and more temperate:\n",
      "\n",
      "Rough winds do shake the darling buds of May,\n",
      "\n",
      "And summerâ€™s lease hath all too short a date;\n",
      "\n",
      "Sometime too hot the eye of heaven shines,\n",
      "\n",
      "And often is his gold complexion dimm'd;\n",
      "\n",
      "And every fair from fair sometime declines,\n",
      "\n",
      "By chance or natureâ€™s changing course untrimm'd;\n",
      "\n",
      "But thy eternal summer shall not fade,\n",
      "\n",
      "Nor lose possession of that fair thou owâ€™st;\n",
      "\n",
      "Nor shall death brag thou wanderâ€™st in his shade,\n",
      "\n",
      "When in eternal lines to time thou growâ€™st:\n",
      "\n",
      "  So long as men can breathe or eyes can see,\n",
      "\n",
      "  So long lives this, and this gives life to thee.\n"
     ]
    }
   ],
   "source": [
    "pd = open(\"poem.txt\",\"r\")\n",
    "poem = pd.read()\n",
    "pd.close()\n",
    "print(poem)"
   ]
  },
  {
   "cell_type": "markdown",
   "metadata": {},
   "source": [
    "Write a function in python to count the number of lines from a text file \"story.txt\" which is not starting with an alphabet \"T\""
   ]
  },
  {
   "cell_type": "code",
   "execution_count": 11,
   "metadata": {},
   "outputs": [
    {
     "name": "stdout",
     "output_type": "stream",
     "text": [
      "['A boy is playing there.', 'There is a playground.', 'An aeroplane is in the sky.', 'The sky is pink.', 'Alphabets and numbers are allowed in the password.']\n",
      "3\n"
     ]
    }
   ],
   "source": [
    "st = open(\"story.txt\", \"r\")\n",
    "story = st.read()\n",
    "st.close()\n",
    "\n",
    "main_list = story.split(\"\\n\")\n",
    "print(main_list)\n",
    "\n",
    "#check first letter by comparing\n",
    "count = 0\n",
    "for i in main_list:\n",
    "    if(i[0] != 'T'):\n",
    "        count += 1\n",
    "print(count)\n"
   ]
  },
  {
   "cell_type": "markdown",
   "metadata": {},
   "source": [
    "Write a function in Python to count and display the total number of words in a text file."
   ]
  },
  {
   "cell_type": "code",
   "execution_count": 13,
   "metadata": {},
   "outputs": [
    {
     "name": "stdout",
     "output_type": "stream",
     "text": [
      "['A boy is playing there.', 'There is a playground.', 'An aeroplane is in the sky.', 'The sky is pink.', 'Alphabets and numbers are allowed in the password.']\n",
      "27\n"
     ]
    }
   ],
   "source": [
    "st = open(\"story.txt\", \"r\")\n",
    "story = st.read()\n",
    "st.close()\n",
    "\n",
    "main_list = story.split(\"\\n\")\n",
    "print(main_list)\n",
    "tot_words = 0\n",
    "for i in main_list:\n",
    "    words = i.split(\" \")\n",
    "    tot_words = tot_words + len(words) \n",
    "print(tot_words)"
   ]
  },
  {
   "cell_type": "markdown",
   "metadata": {},
   "source": [
    "Write a function in Python to read lines from a text file \"story.txt\". Your function should find and display the occurrence of the word \"the\""
   ]
  },
  {
   "cell_type": "code",
   "execution_count": 14,
   "metadata": {},
   "outputs": [
    {
     "name": "stdout",
     "output_type": "stream",
     "text": [
      "3\n"
     ]
    }
   ],
   "source": [
    "# Reference from previous code\n",
    "count = 0\n",
    "for i in main_list:\n",
    "    words = i.split(\" \")\n",
    "    for j in words:\n",
    "        if(j == 'the' or j == 'The'):\n",
    "            count += 1\n",
    "            \n",
    "print(count)   "
   ]
  },
  {
   "cell_type": "markdown",
   "metadata": {},
   "source": [
    "Write a function display_words() in python to read lines from a text file \"story.txt\", and display those words, which are less than 4 characters"
   ]
  },
  {
   "cell_type": "code",
   "execution_count": 22,
   "metadata": {},
   "outputs": [
    {
     "data": {
      "text/plain": [
       "16"
      ]
     },
     "execution_count": 22,
     "metadata": {},
     "output_type": "execute_result"
    }
   ],
   "source": [
    "#write function here\n",
    "def display_words(lst):\n",
    "    count = 0\n",
    "    for i in lst:\n",
    "        words = i.split(\" \")\n",
    "        for j in words:\n",
    "            if(len(j) < 4):\n",
    "                count += 1\n",
    "            \n",
    "    return count\n",
    "\n",
    "display_words(main_list)\n",
    "    "
   ]
  },
  {
   "cell_type": "code",
   "execution_count": null,
   "metadata": {},
   "outputs": [],
   "source": [
    "\n",
    "                "
   ]
  }
 ],
 "metadata": {
  "kernelspec": {
   "display_name": "Python 3",
   "language": "python",
   "name": "python3"
  },
  "language_info": {
   "codemirror_mode": {
    "name": "ipython",
    "version": 3
   },
   "file_extension": ".py",
   "mimetype": "text/x-python",
   "name": "python",
   "nbconvert_exporter": "python",
   "pygments_lexer": "ipython3",
   "version": "3.6.4"
  }
 },
 "nbformat": 4,
 "nbformat_minor": 2
}
